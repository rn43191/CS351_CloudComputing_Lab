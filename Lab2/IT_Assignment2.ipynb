{
  "nbformat": 4,
  "nbformat_minor": 0,
  "metadata": {
    "colab": {
      "name": "IT_Assignment2.ipynb",
      "provenance": [],
      "collapsed_sections": [],
      "authorship_tag": "ABX9TyOBbFXZnMBfZ3H20pyueVoD",
      "include_colab_link": true
    },
    "kernelspec": {
      "name": "python3",
      "display_name": "Python 3"
    }
  },
  "cells": [
    {
      "cell_type": "markdown",
      "metadata": {
        "id": "view-in-github",
        "colab_type": "text"
      },
      "source": [
        "<a href=\"https://colab.research.google.com/github/rn43191/CS351_CloudComputing_Lab/blob/master/Lab2/IT_Assignment2.ipynb\" target=\"_parent\"><img src=\"https://colab.research.google.com/assets/colab-badge.svg\" alt=\"Open In Colab\"/></a>"
      ]
    },
    {
      "cell_type": "code",
      "metadata": {
        "id": "jxNElJzZ_oh6",
        "colab_type": "code",
        "colab": {}
      },
      "source": [
        "import numpy as np\n",
        "\n",
        "print(\"Welcome to course registration !\")\n",
        "while True:\n",
        "    Student_Name = input(\"Enter your name : \")\n",
        "    Roll_No = input(\"Enter your Roll number : \")\n",
        "    Current_Sem = int(input(\"Current Semester (*integer) : \"))\n",
        "    response = input(\"Are you sure ? (y/n) : \")\n",
        "    if response == 'y':\n",
        "        break\n",
        "\n",
        "Year = int(Current_Sem/2) + 1\n",
        "Opted = []\n",
        "avail = []\n",
        "\n",
        "Courses = np.genfromtxt('courses%d.txt' % (Current_Sem%2), dtype=None, delimiter=',', encoding=None)\n",
        "\n",
        "for course in Courses:\n",
        "    if course[0][0] in (Roll_No[0], \"H\", \"S\") and course[0][2] == str(Year):\n",
        "        avail.append(course)\n",
        "\n",
        "print(\"\\nCourses available -\")\n",
        "for index, value in enumerate(avail):\n",
        "    print(index+1, \"-\", value[0], value[1])\n",
        "\n",
        "while True:\n",
        "    total = int(input(\"How many courses you want to opt for : \"))\n",
        "    while(total < 4 or total > 7):\n",
        "        print(\"You must Choose between 4 to 7 courses !\")\n",
        "        total = int(input(\"Number of courses : \"))\n",
        "\n",
        "    print(\"Give corresponding index of courses :\")\n",
        "\n",
        "    for i in range(0, total):\n",
        "        idx = int(input())\n",
        "        Opted.append(avail[idx-1])\n",
        "        print(avail[idx-1][0],\" selected !\")\n",
        "\n",
        "    print(\"You're opting for : \")\n",
        "    for i in Opted:\n",
        "        print(i[0], i[1])\n",
        "\n",
        "    response = input(\"Are you sure ? (y/n) : \")\n",
        "    if response == 'y':\n",
        "        break\n",
        "    else:\n",
        "        Opted.clear()\n",
        "\n",
        "File = open(r'student course information.txt','a')\n",
        "string = Roll_No + \",\" + Student_Name + \",\" + str(Current_Sem) + \",\" + \",\".join(['-'.join(ele) for ele in Opted]) +\"\\n\"\n",
        "File.write(string)\n",
        "print(\"\\nCourse Registration Successful !\")\n"
      ],
      "execution_count": null,
      "outputs": []
    }
  ]
}